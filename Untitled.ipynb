{
 "cells": [
  {
   "cell_type": "code",
   "execution_count": 1,
   "id": "8f9dc1dd-a4cf-466b-becf-e8f568422485",
   "metadata": {},
   "outputs": [],
   "source": [
    "import requests\n",
    "import pandas as pd\n",
    "import json"
   ]
  },
  {
   "cell_type": "code",
   "execution_count": 18,
   "id": "3814734d-45dd-43dd-956a-c3ab02a95730",
   "metadata": {},
   "outputs": [],
   "source": [
    "r =requests.get('https://financialmodelingprep.com/api/v3/historical-chart/1hour/AAPL?apikey=3e17d2b777a13feee4c1243985cdc7c4')"
   ]
  },
  {
   "cell_type": "code",
   "execution_count": 19,
   "id": "0b5acda6-1f73-4ba0-b30a-6c6a51dda1de",
   "metadata": {},
   "outputs": [],
   "source": [
    "r =json.loads(r.text)"
   ]
  },
  {
   "cell_type": "code",
   "execution_count": 21,
   "id": "d94166e4-5c04-4137-b720-a579f2daa524",
   "metadata": {},
   "outputs": [
    {
     "data": {
      "text/plain": [
       "{'date': '2022-12-20 10:00:00',\n",
       " 'open': 131.335,\n",
       " 'low': 131.19,\n",
       " 'high': 133.25,\n",
       " 'close': 132.28,\n",
       " 'volume': 14373239}"
      ]
     },
     "execution_count": 21,
     "metadata": {},
     "output_type": "execute_result"
    }
   ],
   "source": [
    "r[-1]"
   ]
  },
  {
   "cell_type": "code",
   "execution_count": 17,
   "id": "0e279acd-4948-4303-ad89-0c41fa2e1960",
   "metadata": {},
   "outputs": [
    {
     "data": {
      "text/plain": [
       "7200"
      ]
     },
     "execution_count": 17,
     "metadata": {},
     "output_type": "execute_result"
    }
   ],
   "source": []
  },
  {
   "cell_type": "code",
   "execution_count": null,
   "id": "9ff6a672-4460-4252-942d-411162b57369",
   "metadata": {},
   "outputs": [],
   "source": []
  }
 ],
 "metadata": {
  "kernelspec": {
   "display_name": "Python 3 (ipykernel)",
   "language": "python",
   "name": "python3"
  },
  "language_info": {
   "codemirror_mode": {
    "name": "ipython",
    "version": 3
   },
   "file_extension": ".py",
   "mimetype": "text/x-python",
   "name": "python",
   "nbconvert_exporter": "python",
   "pygments_lexer": "ipython3",
   "version": "3.9.13"
  }
 },
 "nbformat": 4,
 "nbformat_minor": 5
}
